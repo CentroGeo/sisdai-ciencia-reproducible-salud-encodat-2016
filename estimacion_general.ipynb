{
 "cells": [
  {
   "cell_type": "markdown",
   "id": "74c14f41",
   "metadata": {},
   "source": [
    "# Estimaciones en una encuesta\n"
   ]
  },
  {
   "cell_type": "code",
   "execution_count": 1,
   "id": "1446e56b",
   "metadata": {},
   "outputs": [],
   "source": [
    "# ---------- # Importación de bibliotecas # ------------------ #\n",
    "import os\n",
    "import sys\n",
    "import pandas as pd\n",
    "\n",
    "# ---------- # Importación de funciones # ------------------ #\n",
    "from modulos.func_analisis import *\n",
    "from modulos.func_transformacion import *"
   ]
  },
  {
   "cell_type": "markdown",
   "id": "0e40ec83",
   "metadata": {},
   "source": [
    "Dentro del script \"func_analisis\" se encuentran las funciones \"proporciones\", \"proporciones_des\", \"prevalencias\", \"prevalencias_des\" y \"tabulados_prevalencias\". Todas estas funciones se pueden utilizar para generar estimaciones a partir de los datos de cualquier encuesta con un muestreo probabilístico estratificado. \n",
    "\n",
    "A grandes razgos las funciones requieren como argumentos el nombre de las varibles donde se almacena la información del ponderador, la unidad primaria de muestreo, el estrato, las preguntas que se desean analizar y el dataframe donde están dichas variables. \n",
    "\n",
    "Para usarlas, sólo es necesario definir correctamente sus argumentos. Los pasos que se recomienda seguir son:\n",
    "1. Identificar las variables de interés en la base de datos asociada a la encuesta.\n",
    "2. Homologar el tipo de datos de las variables de interés.\n",
    "3. Estructurar un dataframe con las variables de interés.\n",
    "4. Generar la estimación a partir de las respuestas a las preguntas seleccionadas.\n",
    "\n",
    "A continuación se ejemplifica cómo se pueden generar estimaciones de alguna pregunta de interés con los datos de la Encuesta Nacional de Consumo de Drogas, Alcohol y Tabaco, ENCODAT 2016-2017."
   ]
  },
  {
   "cell_type": "code",
   "execution_count": 2,
   "id": "53616342",
   "metadata": {},
   "outputs": [],
   "source": [
    "# ------------------ # Carga de las bases de datos # ------------------ #\n",
    "h=pd.read_csv(os.path.join('datos','originales','ENCODAT_2016_2017_Hogar','ENCODAT_2016_2017_Hogar.csv'), sep=';', low_memory=False)\n",
    "bb=pd.read_csv(os.path.join('datos','originales','ENCODAT_2016_2017_Individual','ENCODAT_2016_2017_Individual.csv'), sep=';', low_memory=False)"
   ]
  },
  {
   "cell_type": "markdown",
   "id": "8f846b1a",
   "metadata": {},
   "source": [
    "## 1. Identificación de variables\n",
    "En los argumentos de las funciones para hacer estimaciones, es necesario indicar el nombre de las variables que almacenan el factor de expansión, la unidad primaria de muestreo, el estrato y las preguntas de interés. Por ello, el primer paso es identificar si se tienen dichas variables y cuál es su nombre o clave.\n",
    "\n",
    "En el caso de la ENCODAT:\n",
    "- el factor de expansión está dentro de las variables 'ponde_ss' y 'ponde_hh'\n",
    "- la unidad primaria de muestreo es la variable 'code_upm'\n",
    "- el estrato están en la variable 'estrato'\n",
    "\n",
    "Las preguntas de interés dependerán de la información que se desee estimar. \n",
    "\n",
    "Para este ejemplo, se eligieron dos preguntas:\n",
    "- ¿Actualmente estudia? (clave ds8)\n",
    "    1) No, nunca ha asistido a la escuela\n",
    "    2) No, pero si fue a la escuela\n",
    "    3) Sí\n",
    " \n",
    "- ¿Cuál fue el último grado que ha completado o completó en la escuela? (clave ds9)\n",
    "    1. Primaria incompleta (1 a 5 años)\n",
    "    2. Primaria completa (6 años)\n",
    "    3. Secundaria incompleta (1 a 2 años)\n",
    "    4. Secundaria completa o equivalente (3 años)\n",
    "    5. Bachillerato incompleto (1 a 2 años)\n",
    "    6. Bachillerato completo o equivalente (aprox. 3 años)\n",
    "    7. Estudios Universitarios incompletos (1 a 3 años)\n",
    "    8. Estudios  Universitarios completos (4 a 5 años)\n",
    "    9. Estudios de Posgrado (2 a 4 años)\n",
    "    99) No contesta"
   ]
  },
  {
   "cell_type": "code",
   "execution_count": 3,
   "id": "0910530c",
   "metadata": {},
   "outputs": [],
   "source": [
    "# ---------- # Selección de preguntas # ------------------ #\n",
    "\n",
    "#escribir aqui los códigos de las preguntas de interés\n",
    "clv_preg = ['ds8','ds9']"
   ]
  },
  {
   "cell_type": "markdown",
   "id": "8d4770f0",
   "metadata": {},
   "source": [
    "## 2. Homologación de datos\n",
    "\n",
    "Las variables de interés que requieren las funciones de \"func_analisis\" deben ser datos de tipo numérico, por ello para empezar a hacer estimaciones es necesario hacer una pequeña exploración a las bases de datos y en caso de ser necesario cambiar los datos, codificarlos o corregirlos para que sean de tipo numérico.\n",
    "\n",
    "Siguiendo con el ejemplo de la ENCODAT, en la siguientes celdas se hace una pequeña exploración a las bases de datos y se homologan los datos a formato numérico.\n",
    "\n",
    "### 2.1 Preparativos de las variables asociadas a la muestra"
   ]
  },
  {
   "cell_type": "code",
   "execution_count": 4,
   "id": "c0a71b05",
   "metadata": {},
   "outputs": [
    {
     "data": {
      "text/html": [
       "<div>\n",
       "<style scoped>\n",
       "    .dataframe tbody tr th:only-of-type {\n",
       "        vertical-align: middle;\n",
       "    }\n",
       "\n",
       "    .dataframe tbody tr th {\n",
       "        vertical-align: top;\n",
       "    }\n",
       "\n",
       "    .dataframe thead th {\n",
       "        text-align: right;\n",
       "    }\n",
       "</style>\n",
       "<table border=\"1\" class=\"dataframe\">\n",
       "  <thead>\n",
       "    <tr style=\"text-align: right;\">\n",
       "      <th></th>\n",
       "      <th>estrato</th>\n",
       "      <th>code_upm</th>\n",
       "      <th>ponde_hh</th>\n",
       "    </tr>\n",
       "  </thead>\n",
       "  <tbody>\n",
       "    <tr>\n",
       "      <th>0</th>\n",
       "      <td>3</td>\n",
       "      <td>01_12</td>\n",
       "      <td>170,475477457288</td>\n",
       "    </tr>\n",
       "    <tr>\n",
       "      <th>1</th>\n",
       "      <td>3</td>\n",
       "      <td>01_12</td>\n",
       "      <td>170,475477457288</td>\n",
       "    </tr>\n",
       "    <tr>\n",
       "      <th>2</th>\n",
       "      <td>3</td>\n",
       "      <td>01_12</td>\n",
       "      <td>170,475477457288</td>\n",
       "    </tr>\n",
       "    <tr>\n",
       "      <th>3</th>\n",
       "      <td>3</td>\n",
       "      <td>01_12</td>\n",
       "      <td>170,475477457288</td>\n",
       "    </tr>\n",
       "    <tr>\n",
       "      <th>4</th>\n",
       "      <td>3</td>\n",
       "      <td>01_12</td>\n",
       "      <td>170,475477457288</td>\n",
       "    </tr>\n",
       "  </tbody>\n",
       "</table>\n",
       "</div>"
      ],
      "text/plain": [
       "   estrato code_upm          ponde_hh\n",
       "0        3    01_12  170,475477457288\n",
       "1        3    01_12  170,475477457288\n",
       "2        3    01_12  170,475477457288\n",
       "3        3    01_12  170,475477457288\n",
       "4        3    01_12  170,475477457288"
      ]
     },
     "execution_count": 4,
     "metadata": {},
     "output_type": "execute_result"
    }
   ],
   "source": [
    "h[['estrato','code_upm','ponde_hh']].head()"
   ]
  },
  {
   "cell_type": "code",
   "execution_count": 5,
   "id": "11624b7d",
   "metadata": {},
   "outputs": [
    {
     "data": {
      "text/plain": [
       "estrato      int64\n",
       "code_upm    object\n",
       "ponde_hh    object\n",
       "dtype: object"
      ]
     },
     "execution_count": 5,
     "metadata": {},
     "output_type": "execute_result"
    }
   ],
   "source": [
    "h[['estrato','code_upm','ponde_hh']].dtypes"
   ]
  },
  {
   "cell_type": "markdown",
   "id": "c00e9ae1",
   "metadata": {},
   "source": [
    "Con las dos celdas anteriores se puede ver que la variable estrato ya tiene formato numérico, así que no vamos a hacerle ningún procesamiento. Sin embargo, las variables 'code_upm' y 'ponde_hh' sí necesitan homologarse a formato numérico, además la variable \"ponde_hh\" tiene más información que sólo el ponderador.\n",
    "\n",
    "En la siguiente celda se hacen las adecuaciones correspondientes para solucionar los problemas anteriores:"
   ]
  },
  {
   "cell_type": "code",
   "execution_count": 6,
   "id": "4bf8f92e",
   "metadata": {},
   "outputs": [],
   "source": [
    "# Homologación de codigos de las unidades primarias de muestreo para que sean sólo numéricos\n",
    "h.insert(0,'upm',h['code_upm'].str.replace('_','').astype(int))\n",
    "\n",
    "# Ahora bien, en el caso muy específico de esta base de datos,\n",
    "#el factor de expansión son los primeros dígitos separados por la coma en la variable 'ponde_hh'\n",
    "#así que se genera una nueva variable sólo con el ponderador en formato numérico\n",
    "h.insert(0,'factor_exp',h['ponde_hh'].str.partition(',')[0].astype(int))"
   ]
  },
  {
   "cell_type": "markdown",
   "id": "e589fe54",
   "metadata": {},
   "source": [
    "De igual forma, en la base 'bb', la variable \"ponde_ss\" tiene más información que sólo el ponderador, así que se corrige:"
   ]
  },
  {
   "cell_type": "code",
   "execution_count": 7,
   "id": "8782e5b6",
   "metadata": {},
   "outputs": [
    {
     "data": {
      "text/plain": [
       "0    263,004588042305\n",
       "1    779,543148763914\n",
       "2    263,004588042305\n",
       "3     281,00343231265\n",
       "4    421,505148468975\n",
       "Name: ponde_ss, dtype: object"
      ]
     },
     "execution_count": 7,
     "metadata": {},
     "output_type": "execute_result"
    }
   ],
   "source": [
    "bb['ponde_ss'].head()"
   ]
  },
  {
   "cell_type": "code",
   "execution_count": 8,
   "id": "84d69f48",
   "metadata": {},
   "outputs": [],
   "source": [
    "# Se genera una nueva variable sólo con el ponderador en formato numérico\n",
    "bb.insert(0,'factor_exp',bb['ponde_ss'].str.partition(',')[0].astype(int))"
   ]
  },
  {
   "cell_type": "markdown",
   "id": "22ee1879",
   "metadata": {},
   "source": [
    "### 2.2 Preparativos de las variables asociadas a las preguntas\n",
    "En el caso de la ENCODAT las respuestas a preguntas se codifican mediante claves, sin embargo no siempre están homologadas para que efectivamente sean sólo datos numéricos. En la siguiente celda podemos ver como una de las preguntas seleccionadas ('ds9') tiene datos de distintos tipos, no sólo numéricos."
   ]
  },
  {
   "cell_type": "code",
   "execution_count": 10,
   "id": "ccccff16",
   "metadata": {},
   "outputs": [
    {
     "data": {
      "text/plain": [
       "ds8     int64\n",
       "ds9    object\n",
       "dtype: object"
      ]
     },
     "execution_count": 10,
     "metadata": {},
     "output_type": "execute_result"
    }
   ],
   "source": [
    "# ---------- # Revisión del tipo de respuestas de las preguntas seleccionadas # ------------------ #\n",
    "bb[clv_preg].dtypes"
   ]
  },
  {
   "cell_type": "code",
   "execution_count": 11,
   "id": "628c3378",
   "metadata": {},
   "outputs": [
    {
     "data": {
      "text/plain": [
       "array(['4', '6', '5', '1', '3', '2', '7', '9', '8', ' ', '99'],\n",
       "      dtype=object)"
      ]
     },
     "execution_count": 11,
     "metadata": {},
     "output_type": "execute_result"
    }
   ],
   "source": [
    "bb.ds9.unique()"
   ]
  },
  {
   "cell_type": "markdown",
   "id": "2a19889c",
   "metadata": {},
   "source": [
    "En una inspección más detallada (en la celda anterior) podemos ver que hay dos problemas con el tipo de datos almacenados en la variable 'ds9':\n",
    "- el primero es que hay espacios vacíos\n",
    "- el segundo es que todas las claves son cadenas de caracteres.\n",
    "\n",
    "Para solucionar ambos problemas se hace lo siguiente:"
   ]
  },
  {
   "cell_type": "code",
   "execution_count": 12,
   "id": "3320b5ce",
   "metadata": {},
   "outputs": [],
   "source": [
    "# ---------- # Homologación de los datos de las preguntas seleccionadas # ------------------ #\n",
    "#pregunta con problemas\n",
    "clave_pregunta = 'ds9'\n",
    "\n",
    "#para solucionar el primer problema es necesario asignar una clave numérica a los datos vacíos\n",
    "#en este caso se elige asignar el 0 para los espacios vacíos\n",
    "bb[clave_pregunta]=bb[clave_pregunta].replace(' ',0)\n",
    "\n",
    "#para solucionar el segundo problema se cambia el tipo de dato, de cadena de caracteres a numérico\n",
    "bb[clave_pregunta]=bb[clave_pregunta].astype(int)"
   ]
  },
  {
   "cell_type": "markdown",
   "id": "267c7e50",
   "metadata": {},
   "source": [
    "NOTA: la homologación y estructuración de una base de datos es de las partes más complejas del análisis de datos porque los datos pueden tener infinidad de variaciones o problemas, cada uno con su solución particular.\n",
    "\n",
    "Sin embargo, una forma general de abordar esto es inspeccionar las respuestas y homologar la forma en la que se escriben dichas respuestas. "
   ]
  },
  {
   "cell_type": "markdown",
   "id": "5c1573d5",
   "metadata": {},
   "source": [
    "## 3. Estructuración del dataframe\n",
    "\n",
    "La información de la ENCODAT está distribuida en dos bases de datos (nombradas en este cuaderno como \"bb\" y \"h\"), por ello en este caso la estructuración del dataframe requiere unir dichas bases. \n",
    "\n",
    "NOTA: Cada base puede necesitar sus adecuaciones particulares para estructurar el Dataframe que requieren las funciones del script \"func_analisis\".\n",
    "\n"
   ]
  },
  {
   "cell_type": "code",
   "execution_count": 13,
   "id": "b5e4eef7",
   "metadata": {},
   "outputs": [],
   "source": [
    "# ---------- # Creación de dataframe para funciones # ------------------ #\n",
    "\n",
    "# Creación de variable 'id_hogar' para unir la base \"bb\" con la base \"h\"\n",
    "bb.insert(0,'id_hogar',bb['id_pers'].str[:20])\n",
    "\n",
    "# Unión de las bases en un solo dataframe mediante el id_hogar\n",
    "b=bb.merge(h[['id_hogar','estrato','upm','code_upm','est_var']],on='id_hogar',how='left')"
   ]
  },
  {
   "cell_type": "markdown",
   "id": "3a0df558",
   "metadata": {},
   "source": [
    "## 4. Estimación\n",
    "\n",
    "### 4.1 ¿Con qué proporción se mencionó cada respuesta de la pregunta seleccionada?\n",
    "Para saber con que proporción se mencionó cada respuesta de las preguntas seleccionadas se puede utilizar la función \"proporciones\". Para utilizarla, basta llamar a la función y dar los siguientes argumentos:\n",
    "- b) dataframe con la base de datos.\n",
    "- clave_preg: cadena de caracteres con la clave de la pregunta para la que se desea estimar las proporciones.\n",
    "- alp: valor entre 0 y 1 para definir el nivel de significancia del intervalo (el valor predeterminado es 0.95).\n",
    "- ponderador: cadena de caracteres con el nombre de la variable con el ponderador de la encuesta (el valor predeterminado es \"factor_exp\").\n",
    "- estrato: cadena de caracteres con el nombre de la variable con los estratos de la encuesta (el valor predeterminado es \"estrato\").\n",
    "- upm: cadena de caracteres con el nombre de la columna con las unidades primarias de la encuesta (el valor predeterminado es \"upm\").\n",
    "\n",
    "Al ejecutar la celda, la función genera estimaciones puntuales, su respectivo intervalo de confianza, el coeficiente de variación y el error estándar:"
   ]
  },
  {
   "cell_type": "code",
   "execution_count": 14,
   "id": "d233668d",
   "metadata": {},
   "outputs": [
    {
     "data": {
      "text/html": [
       "<div>\n",
       "<style scoped>\n",
       "    .dataframe tbody tr th:only-of-type {\n",
       "        vertical-align: middle;\n",
       "    }\n",
       "\n",
       "    .dataframe tbody tr th {\n",
       "        vertical-align: top;\n",
       "    }\n",
       "\n",
       "    .dataframe thead th {\n",
       "        text-align: right;\n",
       "    }\n",
       "</style>\n",
       "<table border=\"1\" class=\"dataframe\">\n",
       "  <thead>\n",
       "    <tr style=\"text-align: right;\">\n",
       "      <th></th>\n",
       "      <th>clave_respuesta</th>\n",
       "      <th>estimacion</th>\n",
       "      <th>ic_inf</th>\n",
       "      <th>ic_sup</th>\n",
       "      <th>poblacion</th>\n",
       "      <th>error_std</th>\n",
       "      <th>cv</th>\n",
       "    </tr>\n",
       "  </thead>\n",
       "  <tbody>\n",
       "    <tr>\n",
       "      <th>0</th>\n",
       "      <td>0</td>\n",
       "      <td>2.235656</td>\n",
       "      <td>1.998388</td>\n",
       "      <td>2.472924</td>\n",
       "      <td>1905531</td>\n",
       "      <td>0.121057</td>\n",
       "      <td>5.414847</td>\n",
       "    </tr>\n",
       "    <tr>\n",
       "      <th>1</th>\n",
       "      <td>1</td>\n",
       "      <td>7.543581</td>\n",
       "      <td>7.150328</td>\n",
       "      <td>7.936835</td>\n",
       "      <td>6429670</td>\n",
       "      <td>0.200643</td>\n",
       "      <td>2.659790</td>\n",
       "    </tr>\n",
       "    <tr>\n",
       "      <th>2</th>\n",
       "      <td>2</td>\n",
       "      <td>15.188253</td>\n",
       "      <td>14.563453</td>\n",
       "      <td>15.813053</td>\n",
       "      <td>12945503</td>\n",
       "      <td>0.318781</td>\n",
       "      <td>2.098869</td>\n",
       "    </tr>\n",
       "    <tr>\n",
       "      <th>3</th>\n",
       "      <td>3</td>\n",
       "      <td>10.088452</td>\n",
       "      <td>9.668178</td>\n",
       "      <td>10.508726</td>\n",
       "      <td>8598756</td>\n",
       "      <td>0.214429</td>\n",
       "      <td>2.125493</td>\n",
       "    </tr>\n",
       "    <tr>\n",
       "      <th>4</th>\n",
       "      <td>4</td>\n",
       "      <td>25.132433</td>\n",
       "      <td>24.390835</td>\n",
       "      <td>25.874031</td>\n",
       "      <td>21421291</td>\n",
       "      <td>0.378373</td>\n",
       "      <td>1.505518</td>\n",
       "    </tr>\n",
       "    <tr>\n",
       "      <th>5</th>\n",
       "      <td>5</td>\n",
       "      <td>8.865000</td>\n",
       "      <td>8.431773</td>\n",
       "      <td>9.298226</td>\n",
       "      <td>7555963</td>\n",
       "      <td>0.221038</td>\n",
       "      <td>2.493378</td>\n",
       "    </tr>\n",
       "    <tr>\n",
       "      <th>6</th>\n",
       "      <td>6</td>\n",
       "      <td>16.721276</td>\n",
       "      <td>15.973866</td>\n",
       "      <td>17.468685</td>\n",
       "      <td>14252154</td>\n",
       "      <td>0.381339</td>\n",
       "      <td>2.280559</td>\n",
       "    </tr>\n",
       "    <tr>\n",
       "      <th>7</th>\n",
       "      <td>7</td>\n",
       "      <td>5.092753</td>\n",
       "      <td>4.575115</td>\n",
       "      <td>5.610390</td>\n",
       "      <td>4340739</td>\n",
       "      <td>0.264106</td>\n",
       "      <td>5.185910</td>\n",
       "    </tr>\n",
       "    <tr>\n",
       "      <th>8</th>\n",
       "      <td>8</td>\n",
       "      <td>8.088889</td>\n",
       "      <td>7.508010</td>\n",
       "      <td>8.669769</td>\n",
       "      <td>6894456</td>\n",
       "      <td>0.296373</td>\n",
       "      <td>3.663948</td>\n",
       "    </tr>\n",
       "    <tr>\n",
       "      <th>9</th>\n",
       "      <td>9</td>\n",
       "      <td>0.884170</td>\n",
       "      <td>0.742965</td>\n",
       "      <td>1.025374</td>\n",
       "      <td>753610</td>\n",
       "      <td>0.072045</td>\n",
       "      <td>8.148282</td>\n",
       "    </tr>\n",
       "    <tr>\n",
       "      <th>10</th>\n",
       "      <td>99</td>\n",
       "      <td>0.159538</td>\n",
       "      <td>0.109230</td>\n",
       "      <td>0.209846</td>\n",
       "      <td>135980</td>\n",
       "      <td>0.025668</td>\n",
       "      <td>16.088959</td>\n",
       "    </tr>\n",
       "  </tbody>\n",
       "</table>\n",
       "</div>"
      ],
      "text/plain": [
       "    clave_respuesta  estimacion     ic_inf     ic_sup  poblacion  error_std  \\\n",
       "0                 0    2.235656   1.998388   2.472924    1905531   0.121057   \n",
       "1                 1    7.543581   7.150328   7.936835    6429670   0.200643   \n",
       "2                 2   15.188253  14.563453  15.813053   12945503   0.318781   \n",
       "3                 3   10.088452   9.668178  10.508726    8598756   0.214429   \n",
       "4                 4   25.132433  24.390835  25.874031   21421291   0.378373   \n",
       "5                 5    8.865000   8.431773   9.298226    7555963   0.221038   \n",
       "6                 6   16.721276  15.973866  17.468685   14252154   0.381339   \n",
       "7                 7    5.092753   4.575115   5.610390    4340739   0.264106   \n",
       "8                 8    8.088889   7.508010   8.669769    6894456   0.296373   \n",
       "9                 9    0.884170   0.742965   1.025374     753610   0.072045   \n",
       "10               99    0.159538   0.109230   0.209846     135980   0.025668   \n",
       "\n",
       "           cv  \n",
       "0    5.414847  \n",
       "1    2.659790  \n",
       "2    2.098869  \n",
       "3    2.125493  \n",
       "4    1.505518  \n",
       "5    2.493378  \n",
       "6    2.280559  \n",
       "7    5.185910  \n",
       "8    3.663948  \n",
       "9    8.148282  \n",
       "10  16.088959  "
      ]
     },
     "execution_count": 14,
     "metadata": {},
     "output_type": "execute_result"
    }
   ],
   "source": [
    "proporciones(b = b, \n",
    "             clave_preg = 'ds9', \n",
    "             alp = 0.95, \n",
    "             ponderador = 'factor_exp', \n",
    "             estrato= 'estrato', \n",
    "             upm = 'upm')"
   ]
  },
  {
   "cell_type": "markdown",
   "id": "09f0bd23",
   "metadata": {},
   "source": [
    "La columna 'estimación' del dataframe que genera la función 'proporciones' describe con que proporción la población (estimada por la encuesta) eligió las respuestas.\n",
    "\n",
    "Por ejemplo, con la ENCODAT, se estima que el 15.18% de la población tiene la primaria completa (respuesta que corresponde a la clave 2)"
   ]
  },
  {
   "cell_type": "markdown",
   "id": "20392fc6",
   "metadata": {},
   "source": [
    "### 4.2 ¿Con qué proporción se mencionó cada respuesta de la pregunta seleccionada? \n",
    "### Desagregado por otra variable"
   ]
  },
  {
   "cell_type": "code",
   "execution_count": 15,
   "id": "b137e5b2",
   "metadata": {},
   "outputs": [
    {
     "ename": "NameError",
     "evalue": "name 'monitoreo' is not defined",
     "output_type": "error",
     "traceback": [
      "\u001b[0;31m---------------------------------------------------------------------------\u001b[0m",
      "\u001b[0;31mNameError\u001b[0m                                 Traceback (most recent call last)",
      "Cell \u001b[0;32mIn[15], line 1\u001b[0m\n\u001b[0;32m----> 1\u001b[0m \u001b[43mproporciones_des\u001b[49m\u001b[43m(\u001b[49m\u001b[43mb\u001b[49m\u001b[43m \u001b[49m\u001b[38;5;241;43m=\u001b[39;49m\u001b[43m \u001b[49m\u001b[43mb\u001b[49m\u001b[43m,\u001b[49m\n\u001b[1;32m      2\u001b[0m \u001b[43m                 \u001b[49m\u001b[43mclave_preg\u001b[49m\u001b[43m \u001b[49m\u001b[38;5;241;43m=\u001b[39;49m\u001b[43m \u001b[49m\u001b[38;5;124;43m'\u001b[39;49m\u001b[38;5;124;43mds8\u001b[39;49m\u001b[38;5;124;43m'\u001b[39;49m\u001b[43m,\u001b[49m\n\u001b[1;32m      3\u001b[0m \u001b[43m                 \u001b[49m\u001b[43mvar_des\u001b[49m\u001b[43m \u001b[49m\u001b[38;5;241;43m=\u001b[39;49m\u001b[43m \u001b[49m\u001b[38;5;124;43m'\u001b[39;49m\u001b[38;5;124;43mds9\u001b[39;49m\u001b[38;5;124;43m'\u001b[39;49m\u001b[43m,\u001b[49m\n\u001b[1;32m      4\u001b[0m \u001b[43m                 \u001b[49m\u001b[43malp\u001b[49m\u001b[43m \u001b[49m\u001b[38;5;241;43m=\u001b[39;49m\u001b[43m \u001b[49m\u001b[38;5;241;43m0.95\u001b[39;49m\u001b[43m,\u001b[49m\n\u001b[1;32m      5\u001b[0m \u001b[43m                 \u001b[49m\u001b[43mponderador\u001b[49m\u001b[43m \u001b[49m\u001b[38;5;241;43m=\u001b[39;49m\u001b[43m \u001b[49m\u001b[38;5;124;43m'\u001b[39;49m\u001b[38;5;124;43mfactor_exp\u001b[39;49m\u001b[38;5;124;43m'\u001b[39;49m\u001b[43m,\u001b[49m\n\u001b[1;32m      6\u001b[0m \u001b[43m                 \u001b[49m\u001b[43mestrato\u001b[49m\u001b[38;5;241;43m=\u001b[39;49m\u001b[43m \u001b[49m\u001b[38;5;124;43m'\u001b[39;49m\u001b[38;5;124;43mestrato\u001b[39;49m\u001b[38;5;124;43m'\u001b[39;49m\u001b[43m,\u001b[49m\n\u001b[1;32m      7\u001b[0m \u001b[43m                 \u001b[49m\u001b[43mupm\u001b[49m\u001b[43m \u001b[49m\u001b[38;5;241;43m=\u001b[39;49m\u001b[43m \u001b[49m\u001b[38;5;124;43m'\u001b[39;49m\u001b[38;5;124;43mupm\u001b[39;49m\u001b[38;5;124;43m'\u001b[39;49m\u001b[43m)\u001b[49m\n",
      "File \u001b[0;32m~/Documents/Conacyt/CENTRO GEO/Analisis/enasama-2023/modulos/func_analisis.py:135\u001b[0m, in \u001b[0;36mproporciones_des\u001b[0;34m(b, clave_preg, var_des, alp, ponderador, estrato, upm)\u001b[0m\n\u001b[1;32m    133\u001b[0m \u001b[38;5;66;03m# estimación calculada para cada subconjunto de la muestra \u001b[39;00m\n\u001b[1;32m    134\u001b[0m \u001b[38;5;28;01mfor\u001b[39;00m ks, b_red \u001b[38;5;129;01min\u001b[39;00m b_gb:\n\u001b[0;32m--> 135\u001b[0m     res[ks] \u001b[38;5;241m=\u001b[39m proporciones(b_red, clave_preg, alp, ponderador, estrato, upm, \u001b[43mmonitoreo\u001b[49m)\u001b[38;5;241m.\u001b[39mset_index(\u001b[38;5;124m'\u001b[39m\u001b[38;5;124mestimacion\u001b[39m\u001b[38;5;124m'\u001b[39m)\n\u001b[1;32m    137\u001b[0m \u001b[38;5;66;03m# estructuración del dataframe de salida\u001b[39;00m\n\u001b[1;32m    138\u001b[0m resultado \u001b[38;5;241m=\u001b[39m pd\u001b[38;5;241m.\u001b[39mconcat(res)\u001b[38;5;241m.\u001b[39mreset_index()\n",
      "\u001b[0;31mNameError\u001b[0m: name 'monitoreo' is not defined"
     ]
    }
   ],
   "source": [
    "proporciones_des(b = b,\n",
    "                 clave_preg = 'ds8',\n",
    "                 var_des = 'ds9',\n",
    "                 alp = 0.95,\n",
    "                 ponderador = 'factor_exp',\n",
    "                 estrato= 'estrato',\n",
    "                 upm = 'upm')"
   ]
  },
  {
   "cell_type": "code",
   "execution_count": null,
   "id": "740534bb",
   "metadata": {},
   "outputs": [],
   "source": [
    "# ---------- # Adecuaciones a las bases de datos # ------------------ #\n",
    "\n",
    "# Creación de grupos etarios \n",
    "#(los grupos etarios se pueden cambiar si así se desea) \n",
    "grupos_etarios=['12-17', '18-34', '35-59', '60-75']\n",
    "divisiones=[int(x[:2])-1 for x in grupos_etarios]+[int(grupos_etarios[-1][-2:])]\n",
    "b.insert(len(b.columns),'grupo_etario',pd.cut(list(b['ds3']), bins=divisiones, labels=grupos_etarios))\n",
    "\n",
    "# Cambio de nombre y valores de las columnas entidad y sexo\n",
    "b.rename(columns={'entidad':'cve_ent','desc_ent':'nom_ent','ds2':'sexo'}, inplace=True)\n",
    "valores_sexo = {1:'Hombre', 2:'Mujer'}\n",
    "b['sexo'] = b['sexo'].map(valores_sexo).fillna(b['sexo'])\n",
    "b['nom_ent']=b['nom_ent'].str.strip().apply(arreglar_palabras)"
   ]
  },
  {
   "cell_type": "code",
   "execution_count": null,
   "id": "255b6687",
   "metadata": {},
   "outputs": [],
   "source": []
  }
 ],
 "metadata": {
  "kernelspec": {
   "display_name": "Python 3 (ipykernel)",
   "language": "python",
   "name": "python3"
  },
  "language_info": {
   "codemirror_mode": {
    "name": "ipython",
    "version": 3
   },
   "file_extension": ".py",
   "mimetype": "text/x-python",
   "name": "python",
   "nbconvert_exporter": "python",
   "pygments_lexer": "ipython3",
   "version": "3.10.0"
  }
 },
 "nbformat": 4,
 "nbformat_minor": 5
}
